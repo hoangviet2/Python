{
 "cells": [
  {
   "cell_type": "markdown",
   "id": "843a885d",
   "metadata": {},
   "source": [
    "### link : https://www.loc.gov/rr/print/list/057_chron.html"
   ]
  },
  {
   "cell_type": "code",
   "execution_count": 37,
   "id": "62d6ac63",
   "metadata": {},
   "outputs": [],
   "source": [
    "import requests\n",
    "from bs4 import BeautifulSoup\n",
    "import pandas\n",
    "base_url = \"https://www.britannica.com/topic/Presidents-of-the-United-States-1846696\"\n",
    "request = requests.get(base_url)\n",
    "contents = request.content\n",
    "readableContent = BeautifulSoup(contents,\"html.parser\")\n",
    "table = readableContent.find(\"table\")\n",
    "caption = table.find(\"caption\").text\n",
    "tables = table.find(\"tbody\")\n",
    "presidents = tables.find_all(\"tr\")\n",
    "l = []\n",
    "for president in presidents:\n",
    "    info = president.find_all(\"td\")\n",
    "    data = {}\n",
    "    data[\"no\"] = info[1].text.replace('\\n','').replace(' ','')\n",
    "    data[\"name\"] = info[2].find(\"a\",{\"class\":\"md-crosslink\"}).text\n",
    "    data[\"birthplace\"] = info[3].text.replace('\\n','').replace(' ','')\n",
    "    data[\"political party\"] = info[4].text.replace('\\n','')\n",
    "    data[\"term\"] = info[5].text.replace('\\n','').replace(' ','')\n",
    "    l.append(data)"
   ]
  }
 ],
 "metadata": {
  "kernelspec": {
   "display_name": "Python 3 (ipykernel)",
   "language": "python",
   "name": "python3"
  },
  "language_info": {
   "codemirror_mode": {
    "name": "ipython",
    "version": 3
   },
   "file_extension": ".py",
   "mimetype": "text/x-python",
   "name": "python",
   "nbconvert_exporter": "python",
   "pygments_lexer": "ipython3",
   "version": "3.9.6"
  }
 },
 "nbformat": 4,
 "nbformat_minor": 5
}
