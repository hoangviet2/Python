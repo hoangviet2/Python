{
 "cells": [
  {
   "cell_type": "markdown",
   "id": "94cc6935",
   "metadata": {},
   "source": [
    "### link: https://en.wikipedia.org/wiki/Template:COVID-19_pandemic_data"
   ]
  },
  {
   "cell_type": "code",
   "execution_count": 2,
   "id": "a7f9b81d",
   "metadata": {},
   "outputs": [],
   "source": [
    "import requests\n",
    "import datetime\n",
    "from bs4 import BeautifulSoup\n",
    "import pandas\n",
    "based_data = pandas.read_csv(\"worlds.csv\")\n",
    "base_url = \"https://en.wikipedia.org/wiki/Template:COVID-19_pandemic_data\"\n",
    "request = requests.get(base_url)\n",
    "contents = request.content\n",
    "readableContent = BeautifulSoup(contents,\"html.parser\")"
   ]
  },
  {
   "cell_type": "code",
   "execution_count": 38,
   "id": "86f76588",
   "metadata": {},
   "outputs": [],
   "source": [
    "table = readableContent.find(\"table\",{\"style\":\"text-align:right; margin:0 0 0.5em 1em;width:97%;\"})\n",
    "countriesList = table.find(\"tbody\")\n",
    "countries = countriesList.find_all(\"tr\")\n",
    "countries = countries[2:len(countries)-1]\n",
    "daily = []\n",
    "for country in countries:\n",
    "    data = {}\n",
    "    cases = country.find_all(\"td\")\n",
    "    try:\n",
    "        data[\"Location\"] = country.find_all(\"th\",{\"scope\":\"row\"})[1].find(\"a\").text\n",
    "        data[\"Cases\"] = cases[0].text.replace(\"\\n\",\"\")\n",
    "        data[\"Deaths\"] = cases[1].text.replace(\"\\n\",\"\")\n",
    "        try:\n",
    "            data[\"Recoveries\"] = cases[2].text.replace(\"\\n\",\"\")\n",
    "        except:\n",
    "            data[\"Recoveries\"] = \"No data\"\n",
    "    except:\n",
    "        pass\n",
    "    daily.append(data)"
   ]
  },
  {
   "cell_type": "code",
   "execution_count": 40,
   "id": "e1c63c3c",
   "metadata": {},
   "outputs": [],
   "source": [
    "datas = pandas.DataFrame(daily)\n",
    "now = datetime.datetime.now()\n",
    "datas[\"Date\"] = now.strftime(\"%d-%m-\"+str(now.year))\n",
    "frames = [based_data,datas]\n",
    "recentData = pandas.concat(frames)\n",
    "recentData.to_csv(\"worlds.csv\")"
   ]
  }
 ],
 "metadata": {
  "kernelspec": {
   "display_name": "Python 3 (ipykernel)",
   "language": "python",
   "name": "python3"
  },
  "language_info": {
   "codemirror_mode": {
    "name": "ipython",
    "version": 3
   },
   "file_extension": ".py",
   "mimetype": "text/x-python",
   "name": "python",
   "nbconvert_exporter": "python",
   "pygments_lexer": "ipython3",
   "version": "3.9.6"
  }
 },
 "nbformat": 4,
 "nbformat_minor": 5
}
