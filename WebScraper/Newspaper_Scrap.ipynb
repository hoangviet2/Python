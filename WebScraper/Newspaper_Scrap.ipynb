{
 "cells": [
  {
   "cell_type": "markdown",
   "id": "64b8503f",
   "metadata": {},
   "source": [
    "#### link: https://www.worldometers.info/geography/alphabetical-list-of-countries/"
   ]
  },
  {
   "cell_type": "code",
   "execution_count": 134,
   "id": "70c5bd5f",
   "metadata": {},
   "outputs": [],
   "source": [
    "import requests\n",
    "from bs4 import BeautifulSoup\n",
    "import pandas\n",
    "base_url = \"https://www.worldometers.info/geography/alphabetical-list-of-countries/\"\n",
    "request = requests.get(base_url)\n",
    "contents = request.content\n",
    "readableContent = BeautifulSoup(contents,\"html.parser\")\n",
    "populations = readableContent.find_all(\"td\",{\"style\":\"font-weight: bold; text-align:right\"})\n",
    "countries = readableContent.find_all(\"td\",{\"style\":\"font-weight: bold; font-size:15px\"})\n",
    "areaAndDenisty = readableContent.find_all(\"td\",{\"style\":\"text-align:right\"})\n",
    "area = []\n",
    "denisty = []\n",
    "for index in range(0,len(areaAndDenisty)):\n",
    "    if index%2==0:\n",
    "        area.append(areaAndDenisty[index].text)\n",
    "    else:\n",
    "        denisty.append(areaAndDenisty[index].text)\n",
    "l = []\n",
    "for index in range(0,195):\n",
    "    data = {}\n",
    "    data[\"Name\"] = countries[index].text\n",
    "    data[\"Population\"] = populations[index].text\n",
    "    data[\"Area\"] = area[index]\n",
    "    data[\"Denisty\"] = denisty[index]\n",
    "    l.append(data)\n",
    "datas = pandas.DataFrame(l)\n",
    "datas.to_csv(\"World.csv\")"
   ]
  }
 ],
 "metadata": {
  "kernelspec": {
   "display_name": "Python 3 (ipykernel)",
   "language": "python",
   "name": "python3"
  },
  "language_info": {
   "codemirror_mode": {
    "name": "ipython",
    "version": 3
   },
   "file_extension": ".py",
   "mimetype": "text/x-python",
   "name": "python",
   "nbconvert_exporter": "python",
   "pygments_lexer": "ipython3",
   "version": "3.9.6"
  }
 },
 "nbformat": 4,
 "nbformat_minor": 5
}
