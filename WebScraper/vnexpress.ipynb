{
 "cells": [
  {
   "cell_type": "markdown",
   "id": "1afb66db",
   "metadata": {},
   "source": [
    "### link: https://vnexpress.net/tin-tuc-24h"
   ]
  },
  {
   "cell_type": "code",
   "execution_count": 1,
   "id": "50a0af0d",
   "metadata": {},
   "outputs": [],
   "source": [
    "import requests\n",
    "import datetime\n",
    "from bs4 import BeautifulSoup\n",
    "import pandas\n",
    "base_url = \"https://en.wikipedia.org/wiki/List_of_chess_grandmasters\"\n",
    "request = requests.get(base_url)\n",
    "contents = request.content\n",
    "readableContent = BeautifulSoup(contents,\"html.parser\")"
   ]
  },
  {
   "cell_type": "code",
   "execution_count": 12,
   "id": "7995baee",
   "metadata": {},
   "outputs": [
    {
     "name": "stdout",
     "output_type": "stream",
     "text": [
      "[]\n"
     ]
    }
   ],
   "source": [
    "GMlist = readableContent.find_all(\"table\",{\"id\":\"grandmasters\"})\n",
    "print(GMlist)"
   ]
  },
  {
   "cell_type": "code",
   "execution_count": null,
   "id": "5a963fc5",
   "metadata": {},
   "outputs": [],
   "source": []
  }
 ],
 "metadata": {
  "kernelspec": {
   "display_name": "Python 3 (ipykernel)",
   "language": "python",
   "name": "python3"
  },
  "language_info": {
   "codemirror_mode": {
    "name": "ipython",
    "version": 3
   },
   "file_extension": ".py",
   "mimetype": "text/x-python",
   "name": "python",
   "nbconvert_exporter": "python",
   "pygments_lexer": "ipython3",
   "version": "3.9.6"
  }
 },
 "nbformat": 4,
 "nbformat_minor": 5
}
