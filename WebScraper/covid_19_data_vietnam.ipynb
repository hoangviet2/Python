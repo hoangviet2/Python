{
 "cells": [
  {
   "cell_type": "markdown",
   "id": "4ea770fa",
   "metadata": {},
   "source": [
    "#### Link: https://en.wikipedia.org/wiki/COVID-19_pandemic_in_Vietnam"
   ]
  },
  {
   "cell_type": "code",
   "execution_count": 111,
   "id": "9e277aa1",
   "metadata": {},
   "outputs": [],
   "source": [
    "import requests\n",
    "import datetime\n",
    "from bs4 import BeautifulSoup\n",
    "import pandas\n",
    "based_data = pandas.read_csv(\"pandemic.csv\")\n",
    "base_url = \"https://en.wikipedia.org/wiki/COVID-19_pandemic_in_Vietnam\"\n",
    "request = requests.get(base_url)\n",
    "contents = request.content\n",
    "readableContent = BeautifulSoup(contents,\"html.parser\")"
   ]
  },
  {
   "cell_type": "code",
   "execution_count": 112,
   "id": "8130cfd0",
   "metadata": {},
   "outputs": [],
   "source": [
    "news = readableContent.find_all(\"td\",{\"style\":\"text-align: left; vertical-align: top;\"})\n",
    "table = news[0]\n",
    "provinces = table.find(\"tbody\")\n",
    "province = provinces.find_all(\"tr\")\n",
    "province = province[2:]\n",
    "outbreak = []\n",
    "for situation in province:\n",
    "    data = {}\n",
    "    cases = situation.find_all(\"td\")\n",
    "    data[\"City\"] = situation.find(\"a\").text\n",
    "    data[\"Total cases\"] = cases[0].text.replace(\"\\n\",\"\")\n",
    "    data[\"In-patient\"] = cases[1].text.replace(\"\\n\",\"\")\n",
    "    data[\"Recoveries\"] = cases[2].text.replace(\"\\n\",\"\")\n",
    "    data[\"Deaths\"] = cases[3].text.replace(\"\\n\",\"\")\n",
    "    outbreak.append(data)"
   ]
  },
  {
   "cell_type": "code",
   "execution_count": 114,
   "id": "9c12463f",
   "metadata": {},
   "outputs": [],
   "source": [
    "datas = pandas.DataFrame(outbreak)\n",
    "now = datetime.datetime.now()\n",
    "datas[\"Date\"] = now.strftime(\"%d-%m-\"+str(now.year))\n",
    "frames = [based_data,datas]\n",
    "recentData = pandas.concat(frames)\n",
    "recentData.to_csv(\"pandemic.csv\")"
   ]
  }
 ],
 "metadata": {
  "kernelspec": {
   "display_name": "Python 3 (ipykernel)",
   "language": "python",
   "name": "python3"
  },
  "language_info": {
   "codemirror_mode": {
    "name": "ipython",
    "version": 3
   },
   "file_extension": ".py",
   "mimetype": "text/x-python",
   "name": "python",
   "nbconvert_exporter": "python",
   "pygments_lexer": "ipython3",
   "version": "3.9.6"
  }
 },
 "nbformat": 4,
 "nbformat_minor": 5
}
