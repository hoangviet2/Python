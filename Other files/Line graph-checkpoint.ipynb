{
 "cells": [
  {
   "cell_type": "code",
   "execution_count": null,
   "id": "62c3a2f4",
   "metadata": {},
   "outputs": [],
   "source": []
  },
  {
   "cell_type": "code",
   "execution_count": 9,
   "id": "d3a68d37",
   "metadata": {},
   "outputs": [],
   "source": [
    "#import Bokeh\n",
    "from bokeh.plotting import figure\n",
    "from bokeh.io import output_file,show\n",
    "\n",
    "#tested data\n",
    "xAris = [2021,2031,2041,2051]\n",
    "yAris = [1001,1011,1021,1031]\n",
    "\n",
    "#prepare the output_file\n",
    "output_file(\"Line.html\")\n",
    "\n",
    "#create a figure object\n",
    "figureObject = figure()\n",
    "\n",
    "#create line plot\n",
    "figureObject.circle(xAris,yAris)\n",
    "\n",
    "#write the plot in the figure object\n",
    "show(figureObject)"
   ]
  },
  {
   "cell_type": "code",
   "execution_count": 21,
   "id": "d5f54302",
   "metadata": {},
   "outputs": [],
   "source": [
    "#import Bokeh\n",
    "from bokeh.plotting import figure\n",
    "from bokeh.io import output_file,show\n",
    "import pandas\n",
    "\n",
    "#tested data\n",
    "data = pandas.read_csv(\"data.csv\")\n",
    "xAris = data[\"x\"]\n",
    "yAris = data[\"y\"]\n",
    "\n",
    "#prepare the output_file\n",
    "output_file(\"Line_from_csv.html\")\n",
    "\n",
    "#create a figure object\n",
    "figureObject = figure()\n",
    "\n",
    "#create line plot\n",
    "figureObject.line(xAris,yAris)\n",
    "\n",
    "#write the plot in the figure object\n",
    "show(figureObject)"
   ]
  },
  {
   "cell_type": "code",
   "execution_count": 23,
   "id": "a58d8e61",
   "metadata": {},
   "outputs": [],
   "source": [
    "#import Bokeh\n",
    "from bokeh.plotting import figure\n",
    "from bokeh.io import output_file,show\n",
    "import pandas\n",
    "\n",
    "#tested data\n",
    "data = pandas.read_csv(\"http://pythonhow.com/data/bachelors.csv\")\n",
    "xAris = data[\"Year\"]\n",
    "yAris = data[\"Engineering\"]\n",
    "\n",
    "#prepare the output_file\n",
    "output_file(\"Line_from_csv.html\")\n",
    "\n",
    "#create a figure object\n",
    "figureObject = figure()\n",
    "\n",
    "#create line plot\n",
    "figureObject.line(xAris,yAris)\n",
    "\n",
    "#write the plot in the figure object\n",
    "show(figureObject)"
   ]
  },
  {
   "cell_type": "code",
   "execution_count": 33,
   "id": "a238ddd6",
   "metadata": {},
   "outputs": [],
   "source": [
    "from bokeh.plotting import figure,output_file,show\n",
    "import pandas\n",
    "df = pandas.read_csv('adbe.csv', parse_dates=['Date'])\n",
    " \n",
    "p=figure(width=500,height=250,x_axis_type=\"datetime\")\n",
    " \n",
    "p.line(df[\"Date\"],df[\"Close\"],color=\"Orange\",alpha=0.5)\n",
    "output_file(\"times.html\")\n",
    "show(p)"
   ]
  }
 ],
 "metadata": {
  "kernelspec": {
   "display_name": "Python 3 (ipykernel)",
   "language": "python",
   "name": "python3"
  },
  "language_info": {
   "codemirror_mode": {
    "name": "ipython",
    "version": 3
   },
   "file_extension": ".py",
   "mimetype": "text/x-python",
   "name": "python",
   "nbconvert_exporter": "python",
   "pygments_lexer": "ipython3",
   "version": "3.9.6"
  }
 },
 "nbformat": 4,
 "nbformat_minor": 5
}
